{
 "cells": [
  {
   "cell_type": "code",
   "execution_count": 5,
   "metadata": {},
   "outputs": [
    {
     "name": "stdout",
     "output_type": "stream",
     "text": [
      "The autoreload extension is already loaded. To reload it, use:\n",
      "  %reload_ext autoreload\n"
     ]
    }
   ],
   "source": [
    "%load_ext autoreload\n",
    "%autoreload 2"
   ]
  },
  {
   "cell_type": "code",
   "execution_count": 6,
   "metadata": {},
   "outputs": [
    {
     "data": {
      "text/html": [
       "        <script type=\"text/javascript\">\n",
       "        window.PlotlyConfig = {MathJaxConfig: 'local'};\n",
       "        if (window.MathJax && window.MathJax.Hub && window.MathJax.Hub.Config) {window.MathJax.Hub.Config({SVG: {font: \"STIX-Web\"}});}\n",
       "        if (typeof require !== 'undefined') {\n",
       "        require.undef(\"plotly\");\n",
       "        requirejs.config({\n",
       "            paths: {\n",
       "                'plotly': ['https://cdn.plot.ly/plotly-2.27.0.min']\n",
       "            }\n",
       "        });\n",
       "        require(['plotly'], function(Plotly) {\n",
       "            window._Plotly = Plotly;\n",
       "        });\n",
       "        }\n",
       "        </script>\n",
       "        "
      ]
     },
     "metadata": {},
     "output_type": "display_data"
    }
   ],
   "source": [
    "import warnings\n",
    "warnings.filterwarnings('ignore')\n",
    "import sys\n",
    "sys.path.append(\"/root/clip\")\n",
    "import plotly.io as pio\n",
    "pio.renderers.default = \"notebook\"\n",
    "from plotly.offline import init_notebook_mode\n",
    "init_notebook_mode(connected=True)\n",
    "\n",
    "from utils import *\n",
    "from clipmbt.datasets import enterface"
   ]
  },
  {
   "cell_type": "code",
   "execution_count": null,
   "metadata": {},
   "outputs": [],
   "source": [
    "model_name = \"supervised_ssast.base+mspodcast.pretrain_finetune.enterface_loso.12.38.22.8.40\"\n",
    "dl_set = \"val\"\n",
    "load_and_display(ds_namespace=enterface,\n",
    "                 model_name=model_name,\n",
    "                 dl_set=dl_set,\n",
    "                 label_of_interest=None,\n",
    "                 legacy_labels=False\n",
    ")\n",
    "pass\n",
    "load_and_display(ds_namespace=enterface,\n",
    "                 model_name=model_name,\n",
    "                 dl_set=dl_set,\n",
    "                 label_of_interest=\"speaker_id\",\n",
    "                 legacy_labels=False\n",
    ")\n",
    "pass"
   ]
  },
  {
   "cell_type": "code",
   "execution_count": 4,
   "metadata": {},
   "outputs": [
    {
     "name": "stdout",
     "output_type": "stream",
     "text": [
      "Got 1400 records before cleaning\n",
      "Got 1400 records after cleaning\n"
     ]
    },
    {
     "data": {
      "application/vnd.jupyter.widget-view+json": {
       "model_id": "37aca2aa231f4fa0a850c3d2be041428",
       "version_major": 2,
       "version_minor": 0
      },
      "text/plain": [
       "HBox(children=(FigureWidget({\n",
       "    'data': [{'hovertext': array(['happy', 'fear', 'disgust', ..., 'surprise', '…"
      ]
     },
     "metadata": {},
     "output_type": "display_data"
    },
    {
     "name": "stdout",
     "output_type": "stream",
     "text": [
      "Got 1400 records before cleaning\n",
      "Got 1400 records after cleaning\n"
     ]
    },
    {
     "data": {
      "application/vnd.jupyter.widget-view+json": {
       "model_id": "fd9a1481fe8f464f9cdeddc080d5d8f5",
       "version_major": 2,
       "version_minor": 0
      },
      "text/plain": [
       "HBox(children=(FigureWidget({\n",
       "    'data': [{'hovertext': array(['Y', 'Y', 'Y', ..., 'Y', 'Y', 'Y'], dtype=obje…"
      ]
     },
     "metadata": {},
     "output_type": "display_data"
    }
   ],
   "source": [
    "model_name = \"hybrid_base.ssast_neutral.aware.loss.0.5_audio.only_specaugment.0_loso.O_lr.scheduling\"\n",
    "dl_set = \"train\"\n",
    "load_and_display(ds_namespace=enterface,\n",
    "                 model_name=model_name,\n",
    "                 dl_set=dl_set,\n",
    "                 label_of_interest=None,\n",
    "                 legacy_labels=False\n",
    ")\n",
    "pass\n",
    "load_and_display(ds_namespace=enterface,\n",
    "                 model_name=model_name,\n",
    "                 dl_set=dl_set,\n",
    "                 label_of_interest=\"speaker_id\",\n",
    "                 legacy_labels=False\n",
    ")\n",
    "pass"
   ]
  },
  {
   "cell_type": "code",
   "execution_count": 3,
   "metadata": {},
   "outputs": [
    {
     "name": "stdout",
     "output_type": "stream",
     "text": [
      "Got 1029 records before cleaning\n",
      "Got 1029 records after cleaning\n"
     ]
    },
    {
     "data": {
      "application/vnd.jupyter.widget-view+json": {
       "model_id": "c706b4dec0b446229971f9d3982cdea3",
       "version_major": 2,
       "version_minor": 0
      },
      "text/plain": [
       "HBox(children=(FigureWidget({\n",
       "    'data': [{'hovertext': array(['happiness', 'fear', 'disgust', ..., 'sadness'…"
      ]
     },
     "metadata": {},
     "output_type": "display_data"
    }
   ],
   "source": [
    "load_and_display(ds_namespace=enterface, model_name=\"utt_base_ssast_supcon.loss_enterface_audio.only\", dl_set=\"train\")\n",
    "pass"
   ]
  },
  {
   "cell_type": "code",
   "execution_count": null,
   "metadata": {},
   "outputs": [],
   "source": [
    "load_and_display(ds_namespace=enterface, model_name=\"utt_ast_audio.only_pretrain_enterface_freq.mask.lower\", dl_set=\"train\")\n",
    "pass"
   ]
  },
  {
   "cell_type": "code",
   "execution_count": null,
   "metadata": {},
   "outputs": [],
   "source": [
    "load_and_display(ds_namespace=enterface, model_name=\"utt_ast_audio.only_pretrain_enterface_freq.mask.upper\", dl_set=\"train\")\n",
    "pass"
   ]
  },
  {
   "cell_type": "code",
   "execution_count": null,
   "metadata": {},
   "outputs": [],
   "source": [
    "load_and_display(ds_namespace=enterface, model_name=\"utt_ast_audio.only_pretrain_enterface\", dl_set=\"train\")\n",
    "pass"
   ]
  }
 ],
 "metadata": {
  "kernelspec": {
   "display_name": "clip",
   "language": "python",
   "name": "python3"
  },
  "language_info": {
   "codemirror_mode": {
    "name": "ipython",
    "version": 3
   },
   "file_extension": ".py",
   "mimetype": "text/x-python",
   "name": "python",
   "nbconvert_exporter": "python",
   "pygments_lexer": "ipython3",
   "version": "3.9.16"
  }
 },
 "nbformat": 4,
 "nbformat_minor": 2
}
