{
 "cells": [
  {
   "cell_type": "code",
   "execution_count": 1,
   "metadata": {},
   "outputs": [],
   "source": [
    "%load_ext autoreload\n",
    "%autoreload 2"
   ]
  },
  {
   "cell_type": "code",
   "execution_count": 2,
   "metadata": {},
   "outputs": [
    {
     "data": {
      "text/html": [
       "        <script type=\"text/javascript\">\n",
       "        window.PlotlyConfig = {MathJaxConfig: 'local'};\n",
       "        if (window.MathJax && window.MathJax.Hub && window.MathJax.Hub.Config) {window.MathJax.Hub.Config({SVG: {font: \"STIX-Web\"}});}\n",
       "        if (typeof require !== 'undefined') {\n",
       "        require.undef(\"plotly\");\n",
       "        requirejs.config({\n",
       "            paths: {\n",
       "                'plotly': ['https://cdn.plot.ly/plotly-2.27.0.min']\n",
       "            }\n",
       "        });\n",
       "        require(['plotly'], function(Plotly) {\n",
       "            window._Plotly = Plotly;\n",
       "        });\n",
       "        }\n",
       "        </script>\n",
       "        "
      ]
     },
     "metadata": {},
     "output_type": "display_data"
    }
   ],
   "source": [
    "import warnings\n",
    "warnings.filterwarnings('ignore')\n",
    "import sys\n",
    "sys.path.append(\"/root/clip\")\n",
    "import plotly.io as pio\n",
    "pio.renderers.default = \"notebook\"\n",
    "from plotly.offline import init_notebook_mode\n",
    "init_notebook_mode(connected=True)\n",
    "\n",
    "from utils import *\n",
    "from clipmbt.datasets import iemocap"
   ]
  },
  {
   "cell_type": "code",
   "execution_count": null,
   "metadata": {},
   "outputs": [],
   "source": [
    "\n",
    "model_name = \"utt_base_ssast_supcon.loss.0_asvp_audio.only_specaugment.0\"\n",
    "dl_set = \"train\"\n",
    "load_and_display(ds_namespace=iemocap,\n",
    "                 model_name=model_name,\n",
    "                 dl_set=dl_set,\n",
    "                 label_of_interest=None,\n",
    "                 legacy_labels=False\n",
    ")\n",
    "pass\n",
    "load_and_display(ds_namespace=iemocap,\n",
    "                 model_name=model_name,\n",
    "                 dl_set=dl_set,\n",
    "                 label_of_interest=\"speaker_id\",\n",
    "                 legacy_labels=False\n",
    ")\n",
    "pass"
   ]
  },
  {
   "cell_type": "code",
   "execution_count": 3,
   "metadata": {},
   "outputs": [
    {
     "name": "stdout",
     "output_type": "stream",
     "text": [
      "Got 1183 records before cleaning\n",
      "Got 1183 records after cleaning\n"
     ]
    },
    {
     "data": {
      "application/vnd.jupyter.widget-view+json": {
       "model_id": "8c1d33fecf52489ea745d9b1b09e46d7",
       "version_major": 2,
       "version_minor": 0
      },
      "text/plain": [
       "HBox(children=(FigureWidget({\n",
       "    'data': [{'hovertext': array(['Improv', 'Improv', 'Script', ..., 'Script', '…"
      ]
     },
     "metadata": {},
     "output_type": "display_data"
    }
   ],
   "source": [
    "load_and_display(ds_namespace=iemocap,\n",
    "                 model_name=\"utt_base_ssast_supcon.loss.0_iemocap.balanced_audio.only_specaugment.0\",\n",
    "                 dl_set=\"val\",\n",
    "                 label_of_interest=\"is_improv\",\n",
    "                 legacy_labels=False)\n",
    "pass"
   ]
  },
  {
   "cell_type": "code",
   "execution_count": null,
   "metadata": {},
   "outputs": [],
   "source": [
    "load_and_display(ds_namespace=iemocap, \n",
    "                 model_name=\"utt_base_ssast_supcon.loss.0_iemocap.balanced_audio.only_specaugment.0_test\", \n",
    "                 dl_set=\"train\",\n",
    "                 label_of_interest=\"speaker_id\",\n",
    "                 legacy_labels=False\n",
    "                 )\n",
    "pass"
   ]
  },
  {
   "cell_type": "code",
   "execution_count": null,
   "metadata": {},
   "outputs": [],
   "source": [
    "load_and_display(ds_namespace=iemocap, \n",
    "                 model_name=\"utt_base_ssast_supcon.loss.0_iemocap.balanced_audio.only_specaugment.0\",\n",
    "                 dl_set=\"train\",\n",
    "                 label_of_interest=\"speaker_id\"\n",
    "                 )\n",
    "pass"
   ]
  },
  {
   "cell_type": "code",
   "execution_count": null,
   "metadata": {},
   "outputs": [],
   "source": [
    "load_and_display(ds_namespace=iemocap, model_name=\"utt_base_ssast_supcon.loss.1_iemocap.balanced_audio.only_specaugment.0_redux\", dl_set=\"val\")\n",
    "pass"
   ]
  },
  {
   "cell_type": "code",
   "execution_count": null,
   "metadata": {},
   "outputs": [],
   "source": [
    "\n",
    "load_and_display(ds_namespace=iemocap, model_name=\"utt_base_ssast_supcon.loss.1_iemocap.balanced_audio.only_specaugment.80\", dl_set=\"val\")\n",
    "pass"
   ]
  },
  {
   "cell_type": "code",
   "execution_count": null,
   "metadata": {},
   "outputs": [],
   "source": [
    "load_and_display(ds_namespace=iemocap, model_name=\"utt_base_ssast_supcon.loss_iemocap.balanced_audio.only_specaugment.100\", dl_set=\"train\")\n",
    "pass"
   ]
  },
  {
   "cell_type": "code",
   "execution_count": null,
   "metadata": {},
   "outputs": [],
   "source": [
    "load_and_display(ds_namespace=iemocap, model_name=\"utt_base_ssast_supcon.loss_iemocap.balanced_audio.only_specaugment.80\", dl_set=\"val\")\n",
    "pass"
   ]
  },
  {
   "cell_type": "code",
   "execution_count": null,
   "metadata": {},
   "outputs": [],
   "source": [
    "load_and_display(ds_namespace=iemocap, model_name=\"utt_base_ssast_supcon.loss_iemocap.balanced_audio.only\", dl_set=\"val\")\n",
    "pass"
   ]
  },
  {
   "cell_type": "code",
   "execution_count": null,
   "metadata": {},
   "outputs": [],
   "source": [
    "load_and_display(ds_namespace=iemocap, model_name=\"utt_base_ssast_supcon.loss_iemocap_audio.only\", dl_set=\"val\")\n",
    "pass"
   ]
  }
 ],
 "metadata": {
  "kernelspec": {
   "display_name": "clip",
   "language": "python",
   "name": "python3"
  },
  "language_info": {
   "codemirror_mode": {
    "name": "ipython",
    "version": 3
   },
   "file_extension": ".py",
   "mimetype": "text/x-python",
   "name": "python",
   "nbconvert_exporter": "python",
   "pygments_lexer": "ipython3",
   "version": "3.9.16"
  }
 },
 "nbformat": 4,
 "nbformat_minor": 2
}
