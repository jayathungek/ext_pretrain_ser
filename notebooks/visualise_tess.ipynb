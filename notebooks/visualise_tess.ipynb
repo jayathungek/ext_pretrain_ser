{
 "cells": [
  {
   "cell_type": "code",
   "execution_count": 1,
   "metadata": {},
   "outputs": [],
   "source": [
    "%load_ext autoreload\n",
    "%autoreload 2"
   ]
  },
  {
   "cell_type": "code",
   "execution_count": 2,
   "metadata": {},
   "outputs": [
    {
     "data": {
      "text/html": [
       "        <script type=\"text/javascript\">\n",
       "        window.PlotlyConfig = {MathJaxConfig: 'local'};\n",
       "        if (window.MathJax && window.MathJax.Hub && window.MathJax.Hub.Config) {window.MathJax.Hub.Config({SVG: {font: \"STIX-Web\"}});}\n",
       "        if (typeof require !== 'undefined') {\n",
       "        require.undef(\"plotly\");\n",
       "        requirejs.config({\n",
       "            paths: {\n",
       "                'plotly': ['https://cdn.plot.ly/plotly-2.27.0.min']\n",
       "            }\n",
       "        });\n",
       "        require(['plotly'], function(Plotly) {\n",
       "            window._Plotly = Plotly;\n",
       "        });\n",
       "        }\n",
       "        </script>\n",
       "        "
      ]
     },
     "metadata": {},
     "output_type": "display_data"
    }
   ],
   "source": [
    "import warnings\n",
    "warnings.filterwarnings('ignore')\n",
    "import sys\n",
    "sys.path.append(\"/root/clip\")\n",
    "import plotly.io as pio\n",
    "pio.renderers.default = \"notebook\"\n",
    "from plotly.offline import init_notebook_mode\n",
    "init_notebook_mode(connected=True)\n",
    "\n",
    "from utils import *\n",
    "from clipmbt.datasets import tess"
   ]
  },
  {
   "cell_type": "code",
   "execution_count": null,
   "metadata": {},
   "outputs": [
    {
     "name": "stdout",
     "output_type": "stream",
     "text": [
      "Got 1400 records before cleaning\n",
      "Got 1400 records after cleaning\n"
     ]
    },
    {
     "data": {
      "application/vnd.jupyter.widget-view+json": {
       "model_id": "51a8f50098dd4846a2ff3fcb6ae42e92",
       "version_major": 2,
       "version_minor": 0
      },
      "text/plain": [
       "HBox(children=(FigureWidget({\n",
       "    'data': [{'hovertext': array(['fear', 'angry', 'happy', ..., 'fear', 'sad', …"
      ]
     },
     "metadata": {},
     "output_type": "display_data"
    },
    {
     "name": "stdout",
     "output_type": "stream",
     "text": [
      "Got 1393 records before cleaning\n",
      "Got 1393 records after cleaning\n"
     ]
    },
    {
     "data": {
      "application/vnd.jupyter.widget-view+json": {
       "model_id": "006b1bb0702c429dbd7ae97ef8f0bea4",
       "version_major": 2,
       "version_minor": 0
      },
      "text/plain": [
       "HBox(children=(FigureWidget({\n",
       "    'data': [{'hovertext': array(['surprise', 'surprise', 'surprise', ..., 'neut…"
      ]
     },
     "metadata": {},
     "output_type": "display_data"
    }
   ],
   "source": [
    "model_name = \"hybrid_base.ssast_neutral.aware.loss.0.5_audio.only_specaugment.0_loso.O_lr.scheduling\"\n",
    "dl_set = \"train\"\n",
    "load_and_display(ds_namespace=tess,\n",
    "                 model_name=model_name,\n",
    "                 dl_set=dl_set,\n",
    "                 label_of_interest=None,\n",
    "                 legacy_labels=False\n",
    ")\n",
    "pass\n",
    "load_and_display(ds_namespace=tess,\n",
    "                 model_name=model_name,\n",
    "                 dl_set=\"val\",\n",
    "                 label_of_interest=None,\n",
    "                 legacy_labels=False\n",
    ")\n",
    "pass"
   ]
  },
  {
   "cell_type": "code",
   "execution_count": 25,
   "metadata": {},
   "outputs": [
    {
     "name": "stdout",
     "output_type": "stream",
     "text": [
      "Got 2234 records before cleaning\n",
      "Got 2234 records after cleaning\n"
     ]
    },
    {
     "data": {
      "application/vnd.jupyter.widget-view+json": {
       "model_id": "bcd8c61f71284b05a35c9185cf2a0b06",
       "version_major": 2,
       "version_minor": 0
      },
      "text/plain": [
       "HBox(children=(FigureWidget({\n",
       "    'data': [{'hovertext': array(['angry', 'neutral', 'fear', ..., 'surprise', '…"
      ]
     },
     "metadata": {},
     "output_type": "display_data"
    },
    {
     "name": "stdout",
     "output_type": "stream",
     "text": [
      "Got 2234 records before cleaning\n",
      "Got 2234 records after cleaning\n"
     ]
    },
    {
     "data": {
      "application/vnd.jupyter.widget-view+json": {
       "model_id": "5c2dbf91b6b9409c927c565532abd495",
       "version_major": 2,
       "version_minor": 0
      },
      "text/plain": [
       "HBox(children=(FigureWidget({\n",
       "    'data': [{'hovertext': array(['O', 'O', 'Y', ..., 'Y', 'Y', 'O'], dtype=obje…"
      ]
     },
     "metadata": {},
     "output_type": "display_data"
    }
   ],
   "source": [
    "model_name = \"unsupervised_base.ssast_neutral.aware.loss.0.5_audio.only_specaugment.0_lr.scheduling\"\n",
    "dl_set = \"train\"\n",
    "load_and_display(ds_namespace=tess,\n",
    "                 model_name=model_name,\n",
    "                 dl_set=dl_set,\n",
    "                 label_of_interest=None,\n",
    "                 legacy_labels=False\n",
    ")\n",
    "pass\n",
    "load_and_display(ds_namespace=tess,\n",
    "                 model_name=model_name,\n",
    "                 dl_set=dl_set,\n",
    "                 label_of_interest=\"speaker_id\",\n",
    "                 legacy_labels=False\n",
    ")\n",
    "pass"
   ]
  },
  {
   "cell_type": "code",
   "execution_count": 12,
   "metadata": {},
   "outputs": [
    {
     "name": "stdout",
     "output_type": "stream",
     "text": [
      "Got 2234 records before cleaning\n",
      "Got 2234 records after cleaning\n"
     ]
    },
    {
     "data": {
      "application/vnd.jupyter.widget-view+json": {
       "model_id": "60e1d3bcc43941da919c514071694942",
       "version_major": 2,
       "version_minor": 0
      },
      "text/plain": [
       "HBox(children=(FigureWidget({\n",
       "    'data': [{'hovertext': array(['disgust', 'fear', 'angry', ..., 'happy', 'hap…"
      ]
     },
     "metadata": {},
     "output_type": "display_data"
    },
    {
     "name": "stdout",
     "output_type": "stream",
     "text": [
      "Got 559 records before cleaning\n",
      "Got 559 records after cleaning\n"
     ]
    },
    {
     "data": {
      "application/vnd.jupyter.widget-view+json": {
       "model_id": "b56e59a0b72a4444861814cce4ebdc10",
       "version_major": 2,
       "version_minor": 0
      },
      "text/plain": [
       "HBox(children=(FigureWidget({\n",
       "    'data': [{'hovertext': array(['fear', 'happy', 'surprise', ..., 'fear', 'hap…"
      ]
     },
     "metadata": {},
     "output_type": "display_data"
    }
   ],
   "source": [
    "model_name = \"hybrid_base.ssast_neutral.aware.loss.neutral.logits.1_audio.only_specaugment.0\"\n",
    "dl_set = \"val\"\n",
    "load_and_display(ds_namespace=tess,\n",
    "                 model_name=model_name,\n",
    "                 dl_set=\"train\",\n",
    "                 label_of_interest=None,\n",
    "                 legacy_labels=False\n",
    ")\n",
    "pass\n",
    "load_and_display(ds_namespace=tess,\n",
    "                 model_name=model_name,\n",
    "                 dl_set=dl_set,\n",
    "                #  label_of_interest=\"speaker_id\",\n",
    "                 label_of_interest=None,\n",
    "                 legacy_labels=False\n",
    ")\n",
    "pass"
   ]
  },
  {
   "cell_type": "code",
   "execution_count": 11,
   "metadata": {},
   "outputs": [
    {
     "name": "stdout",
     "output_type": "stream",
     "text": [
      "Got 2234 records before cleaning\n",
      "Got 2234 records after cleaning\n"
     ]
    },
    {
     "data": {
      "application/vnd.jupyter.widget-view+json": {
       "model_id": "02e06ff2db4f4e7dae059deeb89f1e6a",
       "version_major": 2,
       "version_minor": 0
      },
      "text/plain": [
       "HBox(children=(FigureWidget({\n",
       "    'data': [{'hovertext': array(['angry', 'sad', 'happy', ..., 'surprise', 'ang…"
      ]
     },
     "metadata": {},
     "output_type": "display_data"
    },
    {
     "name": "stdout",
     "output_type": "stream",
     "text": [
      "Got 559 records before cleaning\n",
      "Got 559 records after cleaning\n"
     ]
    },
    {
     "data": {
      "application/vnd.jupyter.widget-view+json": {
       "model_id": "78983f2896384bf6b414f39bed5a5d97",
       "version_major": 2,
       "version_minor": 0
      },
      "text/plain": [
       "HBox(children=(FigureWidget({\n",
       "    'data': [{'hovertext': array(['surprise', 'fear', 'disgust', ..., 'sad', 'ne…"
      ]
     },
     "metadata": {},
     "output_type": "display_data"
    }
   ],
   "source": [
    "model_name = \"hybrid_base.ssast_neutral.aware.loss.1_audio.only_specaugment.0\"\n",
    "dl_set = \"val\"\n",
    "load_and_display(ds_namespace=tess,\n",
    "                 model_name=model_name,\n",
    "                 dl_set=\"train\",\n",
    "                 label_of_interest=None,\n",
    "                 legacy_labels=False\n",
    ")\n",
    "pass\n",
    "load_and_display(ds_namespace=tess,\n",
    "                 model_name=model_name,\n",
    "                 dl_set=dl_set,\n",
    "                #  label_of_interest=\"speaker_id\",\n",
    "                 label_of_interest=None,\n",
    "                 legacy_labels=False\n",
    ")\n",
    "pass"
   ]
  },
  {
   "cell_type": "code",
   "execution_count": 9,
   "metadata": {},
   "outputs": [
    {
     "name": "stdout",
     "output_type": "stream",
     "text": [
      "Got 2234 records before cleaning\n",
      "Got 2234 records after cleaning\n"
     ]
    },
    {
     "data": {
      "application/vnd.jupyter.widget-view+json": {
       "model_id": "192df384c3da4b5b9fc774e917850540",
       "version_major": 2,
       "version_minor": 0
      },
      "text/plain": [
       "HBox(children=(FigureWidget({\n",
       "    'data': [{'hovertext': array(['surprise', 'happy', 'disgust', ..., 'happy', …"
      ]
     },
     "metadata": {},
     "output_type": "display_data"
    },
    {
     "name": "stdout",
     "output_type": "stream",
     "text": [
      "Got 559 records before cleaning\n",
      "Got 559 records after cleaning\n"
     ]
    },
    {
     "data": {
      "application/vnd.jupyter.widget-view+json": {
       "model_id": "e13e127761a248e597d35ea254c3eb5a",
       "version_major": 2,
       "version_minor": 0
      },
      "text/plain": [
       "HBox(children=(FigureWidget({\n",
       "    'data': [{'hovertext': array(['angry', 'sad', 'neutral', ..., 'angry', 'sad'…"
      ]
     },
     "metadata": {},
     "output_type": "display_data"
    }
   ],
   "source": [
    "model_name = \"hybrid_base.ssast_supcon.loss_audio.only_specaugment.0_lr.scheduling\"\n",
    "dl_set = \"val\"\n",
    "load_and_display(ds_namespace=tess,\n",
    "                 model_name=model_name,\n",
    "                 dl_set=\"train\",\n",
    "                 label_of_interest=None,\n",
    "                 legacy_labels=False\n",
    ")\n",
    "pass\n",
    "load_and_display(ds_namespace=tess,\n",
    "                 model_name=model_name,\n",
    "                 dl_set=dl_set,\n",
    "                #  label_of_interest=\"speaker_id\",\n",
    "                 label_of_interest=None,\n",
    "                 legacy_labels=False\n",
    ")\n",
    "pass"
   ]
  },
  {
   "cell_type": "code",
   "execution_count": 7,
   "metadata": {},
   "outputs": [
    {
     "name": "stdout",
     "output_type": "stream",
     "text": [
      "Got 2234 records before cleaning\n",
      "Got 2234 records after cleaning\n"
     ]
    },
    {
     "data": {
      "application/vnd.jupyter.widget-view+json": {
       "model_id": "1e5bee1564e546cc83c4fe71b3a8411e",
       "version_major": 2,
       "version_minor": 0
      },
      "text/plain": [
       "HBox(children=(FigureWidget({\n",
       "    'data': [{'hovertext': array(['surprise', 'disgust', 'neutral', ..., 'angry'…"
      ]
     },
     "metadata": {},
     "output_type": "display_data"
    },
    {
     "name": "stdout",
     "output_type": "stream",
     "text": [
      "Got 2234 records before cleaning\n",
      "Got 2234 records after cleaning\n"
     ]
    },
    {
     "data": {
      "application/vnd.jupyter.widget-view+json": {
       "model_id": "a0497d90ad8a44d6aa4d85a6c808ce64",
       "version_major": 2,
       "version_minor": 0
      },
      "text/plain": [
       "HBox(children=(FigureWidget({\n",
       "    'data': [{'hovertext': array(['Y', 'Y', 'Y', ..., 'Y', 'Y', 'O'], dtype=obje…"
      ]
     },
     "metadata": {},
     "output_type": "display_data"
    }
   ],
   "source": [
    "model_name = \"usupervised_base.ssast_neutral.aware.loss.alpha.0.5_tess_audio.only_specaugment.0_with.neutral\"\n",
    "dl_set = \"train\"\n",
    "load_and_display(ds_namespace=tess,\n",
    "                 model_name=model_name,\n",
    "                 dl_set=dl_set,\n",
    "                 label_of_interest=None,\n",
    "                 legacy_labels=False\n",
    ")\n",
    "pass\n",
    "load_and_display(ds_namespace=tess,\n",
    "                 model_name=model_name,\n",
    "                 dl_set=dl_set,\n",
    "                 label_of_interest=\"speaker_id\",\n",
    "                 legacy_labels=False\n",
    ")\n",
    "pass"
   ]
  },
  {
   "cell_type": "code",
   "execution_count": 6,
   "metadata": {},
   "outputs": [
    {
     "name": "stdout",
     "output_type": "stream",
     "text": [
      "Got 2234 records before cleaning\n",
      "Got 2234 records after cleaning\n"
     ]
    },
    {
     "data": {
      "application/vnd.jupyter.widget-view+json": {
       "model_id": "6eb47382d2734d3aac61d29cdf8133d4",
       "version_major": 2,
       "version_minor": 0
      },
      "text/plain": [
       "HBox(children=(FigureWidget({\n",
       "    'data': [{'hovertext': array(['fear', 'surprise', 'fear', ..., 'surprise', '…"
      ]
     },
     "metadata": {},
     "output_type": "display_data"
    },
    {
     "name": "stdout",
     "output_type": "stream",
     "text": [
      "Got 2234 records before cleaning\n",
      "Got 2234 records after cleaning\n"
     ]
    },
    {
     "data": {
      "application/vnd.jupyter.widget-view+json": {
       "model_id": "f07e442330af40eab42fe0adbbba8769",
       "version_major": 2,
       "version_minor": 0
      },
      "text/plain": [
       "HBox(children=(FigureWidget({\n",
       "    'data': [{'hovertext': array(['Y', 'Y', 'O', ..., 'O', 'O', 'Y'], dtype=obje…"
      ]
     },
     "metadata": {},
     "output_type": "display_data"
    }
   ],
   "source": [
    "model_name = \"usupervised_base.ssast_supcon.loss_tess_audio.only_specaugment.0_with.neutral\"\n",
    "dl_set = \"train\"\n",
    "load_and_display(ds_namespace=tess,\n",
    "                 model_name=model_name,\n",
    "                 dl_set=dl_set,\n",
    "                 label_of_interest=None,\n",
    "                 legacy_labels=False\n",
    ")\n",
    "pass\n",
    "load_and_display(ds_namespace=tess,\n",
    "                 model_name=model_name,\n",
    "                 dl_set=dl_set,\n",
    "                 label_of_interest=\"speaker_id\",\n",
    "                 legacy_labels=False\n",
    ")\n",
    "pass"
   ]
  },
  {
   "cell_type": "code",
   "execution_count": 5,
   "metadata": {},
   "outputs": [
    {
     "name": "stdout",
     "output_type": "stream",
     "text": [
      "Got 1914 records before cleaning\n",
      "Got 1914 records after cleaning\n"
     ]
    },
    {
     "data": {
      "application/vnd.jupyter.widget-view+json": {
       "model_id": "d1517e432f304174bdc21843b0691f0c",
       "version_major": 2,
       "version_minor": 0
      },
      "text/plain": [
       "HBox(children=(FigureWidget({\n",
       "    'data': [{'hovertext': array(['happy', 'disgust', 'surprise', ..., 'happy', …"
      ]
     },
     "metadata": {},
     "output_type": "display_data"
    },
    {
     "name": "stdout",
     "output_type": "stream",
     "text": [
      "Got 1914 records before cleaning\n",
      "Got 1914 records after cleaning\n"
     ]
    },
    {
     "data": {
      "application/vnd.jupyter.widget-view+json": {
       "model_id": "5e6779358c5c485784398decde2057b6",
       "version_major": 2,
       "version_minor": 0
      },
      "text/plain": [
       "HBox(children=(FigureWidget({\n",
       "    'data': [{'hovertext': array(['Y', 'Y', 'Y', ..., 'O', 'O', 'Y'], dtype=obje…"
      ]
     },
     "metadata": {},
     "output_type": "display_data"
    }
   ],
   "source": [
    "model_name = \"usupervised_base.ssast_neutral.aware.loss.alpha.0.5_tess_audio.only_specaugment.0\"\n",
    "dl_set = \"train\"\n",
    "load_and_display(ds_namespace=tess,\n",
    "                 model_name=model_name,\n",
    "                 dl_set=dl_set,\n",
    "                 label_of_interest=None,\n",
    "                 legacy_labels=False\n",
    ")\n",
    "pass\n",
    "load_and_display(ds_namespace=tess,\n",
    "                 model_name=model_name,\n",
    "                 dl_set=dl_set,\n",
    "                 label_of_interest=\"speaker_id\",\n",
    "                 legacy_labels=False\n",
    ")\n",
    "pass"
   ]
  },
  {
   "cell_type": "code",
   "execution_count": 3,
   "metadata": {},
   "outputs": [
    {
     "name": "stdout",
     "output_type": "stream",
     "text": [
      "Got 1914 records before cleaning\n",
      "Got 1914 records after cleaning\n"
     ]
    },
    {
     "data": {
      "application/vnd.jupyter.widget-view+json": {
       "model_id": "70dc6475db6546ccac7cd984c49e9703",
       "version_major": 2,
       "version_minor": 0
      },
      "text/plain": [
       "HBox(children=(FigureWidget({\n",
       "    'data': [{'hovertext': array(['disgust', 'sad', 'sad', ..., 'sad', 'disgust'…"
      ]
     },
     "metadata": {},
     "output_type": "display_data"
    },
    {
     "name": "stdout",
     "output_type": "stream",
     "text": [
      "Got 1914 records before cleaning\n",
      "Got 1914 records after cleaning\n"
     ]
    },
    {
     "data": {
      "application/vnd.jupyter.widget-view+json": {
       "model_id": "70e255c4962e4c34ad56d89d2b4c2ccc",
       "version_major": 2,
       "version_minor": 0
      },
      "text/plain": [
       "HBox(children=(FigureWidget({\n",
       "    'data': [{'hovertext': array(['Y', 'O', 'O', ..., 'Y', 'O', 'O'], dtype=obje…"
      ]
     },
     "metadata": {},
     "output_type": "display_data"
    }
   ],
   "source": [
    "model_name = \"usupervised_base.ssast_supcon.loss_tess_audio.only_specaugment.0\"\n",
    "dl_set = \"train\"\n",
    "load_and_display(ds_namespace=tess,\n",
    "                 model_name=model_name,\n",
    "                 dl_set=dl_set,\n",
    "                 label_of_interest=None,\n",
    "                 legacy_labels=False\n",
    ")\n",
    "pass\n",
    "load_and_display(ds_namespace=tess,\n",
    "                 model_name=model_name,\n",
    "                 dl_set=dl_set,\n",
    "                 label_of_interest=\"speaker_id\",\n",
    "                 legacy_labels=False\n",
    ")\n",
    "pass"
   ]
  },
  {
   "cell_type": "code",
   "execution_count": 6,
   "metadata": {},
   "outputs": [
    {
     "ename": "KeyError",
     "evalue": "'speaker_ids'",
     "output_type": "error",
     "traceback": [
      "\u001b[0;31m---------------------------------------------------------------------------\u001b[0m",
      "\u001b[0;31mKeyError\u001b[0m                                  Traceback (most recent call last)",
      "\u001b[1;32m/root/clip/notebooks/visualise_tess.ipynb Cell 12\u001b[0m line \u001b[0;36m3\n\u001b[1;32m      <a href='vscode-notebook-cell://ssh-remote%2Bclip-1/root/clip/notebooks/visualise_tess.ipynb#X14sdnNjb2RlLXJlbW90ZQ%3D%3D?line=0'>1</a>\u001b[0m model_name \u001b[39m=\u001b[39m \u001b[39m\"\u001b[39m\u001b[39mutt_ssast_supcon.loss.0_tess_audio.only_specaugment.0\u001b[39m\u001b[39m\"\u001b[39m\n\u001b[1;32m      <a href='vscode-notebook-cell://ssh-remote%2Bclip-1/root/clip/notebooks/visualise_tess.ipynb#X14sdnNjb2RlLXJlbW90ZQ%3D%3D?line=1'>2</a>\u001b[0m dl_set \u001b[39m=\u001b[39m \u001b[39m\"\u001b[39m\u001b[39mtrain\u001b[39m\u001b[39m\"\u001b[39m\n\u001b[0;32m----> <a href='vscode-notebook-cell://ssh-remote%2Bclip-1/root/clip/notebooks/visualise_tess.ipynb#X14sdnNjb2RlLXJlbW90ZQ%3D%3D?line=2'>3</a>\u001b[0m load_and_display(ds_namespace\u001b[39m=\u001b[39;49mtess,\n\u001b[1;32m      <a href='vscode-notebook-cell://ssh-remote%2Bclip-1/root/clip/notebooks/visualise_tess.ipynb#X14sdnNjb2RlLXJlbW90ZQ%3D%3D?line=3'>4</a>\u001b[0m                  model_name\u001b[39m=\u001b[39;49mmodel_name,\n\u001b[1;32m      <a href='vscode-notebook-cell://ssh-remote%2Bclip-1/root/clip/notebooks/visualise_tess.ipynb#X14sdnNjb2RlLXJlbW90ZQ%3D%3D?line=4'>5</a>\u001b[0m                  dl_set\u001b[39m=\u001b[39;49mdl_set,\n\u001b[1;32m      <a href='vscode-notebook-cell://ssh-remote%2Bclip-1/root/clip/notebooks/visualise_tess.ipynb#X14sdnNjb2RlLXJlbW90ZQ%3D%3D?line=5'>6</a>\u001b[0m )\n\u001b[1;32m      <a href='vscode-notebook-cell://ssh-remote%2Bclip-1/root/clip/notebooks/visualise_tess.ipynb#X14sdnNjb2RlLXJlbW90ZQ%3D%3D?line=6'>7</a>\u001b[0m \u001b[39mpass\u001b[39;00m\n",
      "File \u001b[0;32m~/clip/notebooks/utils.py:260\u001b[0m, in \u001b[0;36mload_and_display\u001b[0;34m(ds_namespace, model_name, emb_obj, dl_set, label_of_interest, display, graph_title, apply_sif, legacy_labels, marker_sz)\u001b[0m\n\u001b[1;32m    256\u001b[0m     embeddings_obj \u001b[39m=\u001b[39m emb_obj\n\u001b[1;32m    258\u001b[0m \u001b[39mif\u001b[39;00m legacy_labels:\n\u001b[1;32m    259\u001b[0m     \u001b[39m# change the emb_obj to match new label format\u001b[39;00m\n\u001b[0;32m--> 260\u001b[0m     speakerids \u001b[39m=\u001b[39m embeddings_obj[\u001b[39m\"\u001b[39;49m\u001b[39mspeaker_ids\u001b[39;49m\u001b[39m\"\u001b[39;49m]\n\u001b[1;32m    261\u001b[0m     \u001b[39mdel\u001b[39;00m embeddings_obj[\u001b[39m\"\u001b[39m\u001b[39mspeaker_ids\u001b[39m\u001b[39m\"\u001b[39m]\n\u001b[1;32m    262\u001b[0m     other_labels_obj \u001b[39m=\u001b[39m [{\u001b[39m\"\u001b[39m\u001b[39mspeaker_id\u001b[39m\u001b[39m\"\u001b[39m: i} \u001b[39mfor\u001b[39;00m i \u001b[39min\u001b[39;00m speakerids]\n",
      "\u001b[0;31mKeyError\u001b[0m: 'speaker_ids'"
     ]
    }
   ],
   "source": [
    "model_name = \"utt_ssast_supcon.loss.0_tess_audio.only_specaugment.0\"\n",
    "dl_set = \"train\"\n",
    "load_and_display(ds_namespace=tess,\n",
    "                 model_name=model_name,\n",
    "                 dl_set=dl_set,\n",
    "                 legacy_labels=False\n",
    ")\n",
    "pass"
   ]
  }
 ],
 "metadata": {
  "kernelspec": {
   "display_name": "clip",
   "language": "python",
   "name": "python3"
  },
  "language_info": {
   "codemirror_mode": {
    "name": "ipython",
    "version": 3
   },
   "file_extension": ".py",
   "mimetype": "text/x-python",
   "name": "python",
   "nbconvert_exporter": "python",
   "pygments_lexer": "ipython3",
   "version": "3.9.16"
  }
 },
 "nbformat": 4,
 "nbformat_minor": 2
}
