{
 "cells": [
  {
   "cell_type": "code",
   "execution_count": 33,
   "metadata": {},
   "outputs": [],
   "source": [
    "%load_ext autoreload\n",
    "%autoreload 2"
   ]
  },
  {
   "cell_type": "code",
   "execution_count": 45,
   "metadata": {},
   "outputs": [],
   "source": [
    "import warnings\n",
    "warnings.filterwarnings('ignore')\n",
    "import sys\n",
    "sys.path.append(\"/root/clip\")\n",
    "import torch\n",
    "import torch.nn as nn\n",
    "from clipmbt.helpers import ConfusionMatrixMeter"
   ]
  },
  {
   "cell_type": "code",
   "execution_count": 46,
   "metadata": {},
   "outputs": [
    {
     "name": "stdout",
     "output_type": "stream",
     "text": [
      "[0.0, 0.010416666977107525, 0.0, 0.02500000037252903]\n",
      "0.008854166604578495\n",
      "[[0, 1, 2, 0], [3, 1, 1, 1], [1, 0, 0, 1], [1, 1, 1, 2]]\n"
     ]
    }
   ],
   "source": [
    "\n",
    "nb_samples = 16\n",
    "nb_classes = 4\n",
    "output = torch.randn(nb_samples, nb_classes)\n",
    "pred = torch.argmax(output, 1)\n",
    "target = torch.randint(0, nb_classes, (nb_samples,))\n",
    "\n",
    "c = ConfusionMatrixMeter(nb_classes)\n",
    "c.update(pred, target)\n",
    "c.save_confusion_matrix(\"test.png\")\n",
    "uar_classes = c.uweighted_avg_recall(average_across_classes=False)\n",
    "uar = c.uweighted_avg_recall()\n",
    "print(uar_classes)\n",
    "print(uar)\n",
    "print(c.get_state())\n",
    "# pred_batches = pred.reshape(4, 4)\n",
    "# target_batches = target.reshape(4, 4)\n",
    "\n",
    "\n",
    "# from torchmetrics.classification import MulticlassRecall, MulticlassConfusionMatrix\n",
    "# uar = MulticlassRecall(nb_classes, average=None)\n",
    "# confm = MulticlassConfusionMatrix(num_classes=nb_classes)\n",
    "# confm_batch = MulticlassConfusionMatrix(num_classes=nb_classes)\n",
    "\n",
    "# u = uar(pred, target)\n",
    "# confm.update(pred, target)\n",
    "\n",
    "# for batchnum in range(pred_batches.shape[0]):\n",
    "#     pred = pred_batches[batchnum]\n",
    "#     target = target_batches[batchnum]\n",
    "#     confm_batch.update(pred, target)\n",
    "\n",
    "\n",
    "# print(u)\n",
    "# f, a = confm.plot()\n",
    "# f.suptitle(\"testing\")\n",
    "# f.savefig(\"test.png\", bbox_inches=\"tight\")\n",
    "\n",
    "# f_batch, _ = confm_batch.plot()\n",
    "# f_batch.suptitle(\"testing\")\n",
    "# f_batch.savefig(\"test_batch.png\", bbox_inches=\"tight\")\n",
    "\n",
    "\n",
    "\n",
    "# conf_matrix = torch.zeros(nb_classes, nb_classes)\n",
    "# for t, p in zip(target, pred):\n",
    "#     conf_matrix[t, p] += 1\n",
    "\n",
    "# print('Confusion matrix\\n', conf_matrix)\n",
    "\n",
    "# TP = conf_matrix.diag()\n",
    "# uars = []\n",
    "# for c in range(nb_classes):\n",
    "#     idx = torch.ones(nb_classes).bool()\n",
    "#     idx[c] = 0\n",
    "#     # all non-class samples classified as non-class\n",
    "#     TN = conf_matrix[idx.nonzero()[:, None], idx.nonzero()].sum() #conf_matrix[idx[:, None], idx].sum() - conf_matrix[idx, c].sum()\n",
    "#     # all non-class samples classified as class\n",
    "#     FP = conf_matrix[idx, c].sum()\n",
    "#     # all class samples not classified as class\n",
    "#     FN = conf_matrix[c, idx].sum()\n",
    "\n",
    "#     sensitivity = TP[c] / (TP[c] + FN)\n",
    "#     specificity  = TN / (FP + TN)\n",
    "    \n",
    "\n",
    "#     uar = (specificity + sensitivity) / nb_classes\n",
    "    \n",
    "#     uars.append(uar)\n",
    "#     # print(f\"Class {c}:\\nTP {TP[c]}, TN {TN}, FP {FP}, FN {FN}, UAR: {uar}\")\n",
    "#     print(sensitivity)\n",
    "#     print(specificity)\n",
    "# print(sum(uars)/len(uars))\n"
   ]
  }
 ],
 "metadata": {
  "kernelspec": {
   "display_name": "clip",
   "language": "python",
   "name": "python3"
  },
  "language_info": {
   "codemirror_mode": {
    "name": "ipython",
    "version": 3
   },
   "file_extension": ".py",
   "mimetype": "text/x-python",
   "name": "python",
   "nbconvert_exporter": "python",
   "pygments_lexer": "ipython3",
   "version": "3.9.16"
  }
 },
 "nbformat": 4,
 "nbformat_minor": 2
}
