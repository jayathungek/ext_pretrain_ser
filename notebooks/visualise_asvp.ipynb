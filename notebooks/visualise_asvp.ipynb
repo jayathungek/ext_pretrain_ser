{
 "cells": [
  {
   "cell_type": "code",
   "execution_count": 1,
   "metadata": {},
   "outputs": [],
   "source": [
    "%load_ext autoreload\n",
    "%autoreload 2"
   ]
  },
  {
   "cell_type": "code",
   "execution_count": 2,
   "metadata": {},
   "outputs": [
    {
     "data": {
      "text/html": [
       "        <script type=\"text/javascript\">\n",
       "        window.PlotlyConfig = {MathJaxConfig: 'local'};\n",
       "        if (window.MathJax && window.MathJax.Hub && window.MathJax.Hub.Config) {window.MathJax.Hub.Config({SVG: {font: \"STIX-Web\"}});}\n",
       "        if (typeof require !== 'undefined') {\n",
       "        require.undef(\"plotly\");\n",
       "        requirejs.config({\n",
       "            paths: {\n",
       "                'plotly': ['https://cdn.plot.ly/plotly-2.27.0.min']\n",
       "            }\n",
       "        });\n",
       "        require(['plotly'], function(Plotly) {\n",
       "            window._Plotly = Plotly;\n",
       "        });\n",
       "        }\n",
       "        </script>\n",
       "        "
      ]
     },
     "metadata": {},
     "output_type": "display_data"
    },
    {
     "name": "stderr",
     "output_type": "stream",
     "text": [
      "2024-06-24 08:06:13.524423: I tensorflow/core/platform/cpu_feature_guard.cc:182] This TensorFlow binary is optimized to use available CPU instructions in performance-critical operations.\n",
      "To enable the following instructions: AVX2 FMA, in other operations, rebuild TensorFlow with the appropriate compiler flags.\n",
      "2024-06-24 08:06:16.356101: W tensorflow/compiler/tf2tensorrt/utils/py_utils.cc:38] TF-TRT Warning: Could not find TensorRT\n"
     ]
    }
   ],
   "source": [
    "import warnings\n",
    "warnings.filterwarnings('ignore')\n",
    "import sys\n",
    "sys.path.append(\"/root/clip\")\n",
    "import plotly.io as pio\n",
    "pio.renderers.default = \"notebook\"\n",
    "from plotly.offline import init_notebook_mode\n",
    "init_notebook_mode(connected=True)\n",
    "\n",
    "from utils import *\n",
    "from clipmbt.datasets import asvp"
   ]
  },
  {
   "cell_type": "code",
   "execution_count": 3,
   "metadata": {},
   "outputs": [
    {
     "name": "stdout",
     "output_type": "stream",
     "text": [
      "Got 9489 records before cleaning\n",
      "Got 9489 records after cleaning\n"
     ]
    },
    {
     "data": {
      "application/vnd.jupyter.widget-view+json": {
       "model_id": "5c00ad22514d445ca4c1c71474178c64",
       "version_major": 2,
       "version_minor": 0
      },
      "text/plain": [
       "HBox(children=(FigureWidget({\n",
       "    'data': [{'hovertext': array(['fear', 'neutral', 'surprise', ..., 'disgust',…"
      ]
     },
     "metadata": {},
     "output_type": "display_data"
    },
    {
     "name": "stdout",
     "output_type": "stream",
     "text": [
      "Got 9489 records before cleaning\n",
      "Got 9489 records after cleaning\n"
     ]
    },
    {
     "data": {
      "application/vnd.jupyter.widget-view+json": {
       "model_id": "b3dd634c08f64dda8a3319c146ea7d7e",
       "version_major": 2,
       "version_minor": 0
      },
      "text/plain": [
       "HBox(children=(FigureWidget({\n",
       "    'data': [{'hovertext': array([ 62.,   2., 103., ...,  60.,  27.,  99.]),\n",
       "   …"
      ]
     },
     "metadata": {},
     "output_type": "display_data"
    }
   ],
   "source": [
    "\n",
    "model_name = \"utt_base_ssast_supcon.loss.0_asvp_audio.only_specaugment.0\"\n",
    "dl_set = \"train\"\n",
    "load_and_display(ds_namespace=asvp,\n",
    "                 model_name=model_name,\n",
    "                 dl_set=dl_set,\n",
    "                 label_of_interest=None,\n",
    "                 legacy_labels=False\n",
    ")\n",
    "pass\n",
    "load_and_display(ds_namespace=asvp,\n",
    "                 model_name=model_name,\n",
    "                 dl_set=dl_set,\n",
    "                 label_of_interest=\"speaker_id\",\n",
    "                 legacy_labels=False\n",
    ")\n",
    "pass"
   ]
  },
  {
   "cell_type": "code",
   "execution_count": 3,
   "metadata": {},
   "outputs": [
    {
     "name": "stdout",
     "output_type": "stream",
     "text": [
      "Got 207 records before cleaning\n",
      "Got 207 records after cleaning\n"
     ]
    },
    {
     "data": {
      "application/vnd.jupyter.widget-view+json": {
       "model_id": "a204c27162944d5fa86b6dd94409fefd",
       "version_major": 2,
       "version_minor": 0
      },
      "text/plain": [
       "HBox(children=(FigureWidget({\n",
       "    'data': [{'hovertext': array(['hurt', 'happy', 'fear', ..., 'excited', 'angr…"
      ]
     },
     "metadata": {},
     "output_type": "display_data"
    }
   ],
   "source": [
    "\n",
    "load_and_display(ds_namespace=asvp,\n",
    "                 model_name=\"utt_base_ssast_supcon.loss.0_asvp.english.actor60_audio.only_specaugment.0\",\n",
    "                 dl_set=\"train\",\n",
    "                 label_of_interest=None,\n",
    "                 legacy_labels=False)\n",
    "pass"
   ]
  },
  {
   "cell_type": "code",
   "execution_count": 4,
   "metadata": {},
   "outputs": [
    {
     "name": "stdout",
     "output_type": "stream",
     "text": [
      "Got 1115 records before cleaning\n",
      "Got 1115 records after cleaning\n"
     ]
    },
    {
     "data": {
      "application/vnd.jupyter.widget-view+json": {
       "model_id": "3e787973cfe54a4580b215e77c489e8f",
       "version_major": 2,
       "version_minor": 0
      },
      "text/plain": [
       "HBox(children=(FigureWidget({\n",
       "    'data': [{'hovertext': array(['disgust', 'happy', 'happy', ..., 'hurt', 'sur…"
      ]
     },
     "metadata": {},
     "output_type": "display_data"
    }
   ],
   "source": [
    "load_and_display(ds_namespace=asvp,\n",
    "                 model_name=\"utt_base_ssast_supcon.loss.0_asvp.english_audio.only_specaugment.0\",\n",
    "                 dl_set=\"val\",\n",
    "                 label_of_interest=None,\n",
    "                 legacy_labels=False)\n",
    "pass"
   ]
  },
  {
   "cell_type": "code",
   "execution_count": 5,
   "metadata": {},
   "outputs": [
    {
     "name": "stdout",
     "output_type": "stream",
     "text": [
      "Got 9489 records before cleaning\n",
      "Got 9489 records after cleaning\n"
     ]
    },
    {
     "data": {
      "application/vnd.jupyter.widget-view+json": {
       "model_id": "f58e82331baf4368943772ba2e883978",
       "version_major": 2,
       "version_minor": 0
      },
      "text/plain": [
       "HBox(children=(FigureWidget({\n",
       "    'data': [{'hovertext': array([ 62.,   2., 103., ...,  60.,  27.,  99.]),\n",
       "   …"
      ]
     },
     "metadata": {},
     "output_type": "display_data"
    }
   ],
   "source": [
    "load_and_display(ds_namespace=asvp,\n",
    "                 model_name=\"utt_base_ssast_supcon.loss.0_asvp_audio.only_specaugment.0\",\n",
    "                 dl_set=\"train\",\n",
    "                 label_of_interest=\"speaker_id\",\n",
    "                 legacy_labels=False)\n",
    "pass"
   ]
  },
  {
   "cell_type": "code",
   "execution_count": null,
   "metadata": {},
   "outputs": [],
   "source": [
    "# load_and_display(ds_namespace=asvp, model_name=\"utt_ast_audio.only_pretrain_random.mask_asvp\", dl_set=\"train\")\n",
    "# load_and_display(ds_namespace=asvp, model_name=\"utt_ssast_random.mask_pretrain.asvp\", dl_set=\"train\")\n",
    "load_and_display(ds_namespace=asvp, model_name=\"utt_ssast_random.mask_pretrain.asvp_freeze.first.10\", dl_set=\"train\")\n",
    "pass"
   ]
  }
 ],
 "metadata": {
  "kernelspec": {
   "display_name": "clip",
   "language": "python",
   "name": "python3"
  },
  "language_info": {
   "codemirror_mode": {
    "name": "ipython",
    "version": 3
   },
   "file_extension": ".py",
   "mimetype": "text/x-python",
   "name": "python",
   "nbconvert_exporter": "python",
   "pygments_lexer": "ipython3",
   "version": "3.9.16"
  }
 },
 "nbformat": 4,
 "nbformat_minor": 2
}
