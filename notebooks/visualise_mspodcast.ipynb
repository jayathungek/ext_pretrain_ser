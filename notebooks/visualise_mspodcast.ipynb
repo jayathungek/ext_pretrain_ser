{
 "cells": [
  {
   "cell_type": "code",
   "execution_count": 1,
   "metadata": {},
   "outputs": [],
   "source": [
    "%load_ext autoreload\n",
    "%autoreload 2"
   ]
  },
  {
   "cell_type": "code",
   "execution_count": 2,
   "metadata": {},
   "outputs": [
    {
     "data": {
      "text/html": [
       "        <script type=\"text/javascript\">\n",
       "        window.PlotlyConfig = {MathJaxConfig: 'local'};\n",
       "        if (window.MathJax && window.MathJax.Hub && window.MathJax.Hub.Config) {window.MathJax.Hub.Config({SVG: {font: \"STIX-Web\"}});}\n",
       "        if (typeof require !== 'undefined') {\n",
       "        require.undef(\"plotly\");\n",
       "        requirejs.config({\n",
       "            paths: {\n",
       "                'plotly': ['https://cdn.plot.ly/plotly-2.27.0.min']\n",
       "            }\n",
       "        });\n",
       "        require(['plotly'], function(Plotly) {\n",
       "            window._Plotly = Plotly;\n",
       "        });\n",
       "        }\n",
       "        </script>\n",
       "        "
      ]
     },
     "metadata": {},
     "output_type": "display_data"
    }
   ],
   "source": [
    "import warnings\n",
    "warnings.filterwarnings('ignore')\n",
    "import sys\n",
    "sys.path.append(\"/root/clip\")\n",
    "import plotly.io as pio\n",
    "pio.renderers.default = \"notebook\"\n",
    "from plotly.offline import init_notebook_mode\n",
    "init_notebook_mode(connected=True)\n",
    "\n",
    "from utils import *\n",
    "from clipmbt.datasets import mspodcast"
   ]
  },
  {
   "cell_type": "code",
   "execution_count": null,
   "metadata": {},
   "outputs": [],
   "source": [
    "\n",
    "model_name = \"unsupervised_ssast.base+mspodcast.pretrain_avd.guided.loss_specaugment.0_attn.loss.0.2\"\n",
    "dl_set = \"train\"\n",
    "load_and_display(ds_namespace=mspodcast,\n",
    "                 model_name=model_name,\n",
    "                 dl_set=dl_set,\n",
    "                 label_of_interest=None,\n",
    "                 legacy_labels=False,\n",
    "                 marker_sz=2\n",
    ")\n",
    "pass"
   ]
  },
  {
   "cell_type": "code",
   "execution_count": 3,
   "metadata": {},
   "outputs": [
    {
     "name": "stdout",
     "output_type": "stream",
     "text": [
      "Got 119383 records before cleaning\n",
      "Got 119383 records after cleaning\n"
     ]
    },
    {
     "data": {
      "application/vnd.jupyter.widget-view+json": {
       "model_id": "9725e691208d4d28a5fd4732af2314ed",
       "version_major": 2,
       "version_minor": 0
      },
      "text/plain": [
       "HBox(children=(FigureWidget({\n",
       "    'data': [{'hovertext': array(['sad', 'neutral', 'neutral', ..., 'fear', 'neu…"
      ]
     },
     "metadata": {},
     "output_type": "display_data"
    }
   ],
   "source": [
    "model_name = \"unsupervised_ssast.pretrain_supcon.loss_specaugment.0_attn.loss.0.2\"\n",
    "dl_set = \"train\"\n",
    "load_and_display(ds_namespace=mspodcast,\n",
    "                 model_name=model_name,\n",
    "                 dl_set=dl_set,\n",
    "                 label_of_interest=None,\n",
    "                 legacy_labels=False,\n",
    "                 marker_sz=2\n",
    ")\n",
    "pass"
   ]
  },
  {
   "cell_type": "code",
   "execution_count": 4,
   "metadata": {},
   "outputs": [
    {
     "name": "stdout",
     "output_type": "stream",
     "text": [
      "Got 119383 records before cleaning\n",
      "Got 119383 records after cleaning\n"
     ]
    },
    {
     "data": {
      "application/vnd.jupyter.widget-view+json": {
       "model_id": "ba3ff514206c483396591b714f984b68",
       "version_major": 2,
       "version_minor": 0
      },
      "text/plain": [
       "HBox(children=(FigureWidget({\n",
       "    'data': [{'hovertext': array(['neutral', 'sad', 'disgust', ..., 'neutral', '…"
      ]
     },
     "metadata": {},
     "output_type": "display_data"
    }
   ],
   "source": [
    "model_name = \"unsupervised_ssast.pretrain_avd.guided.loss_specaugment.0_attn.loss.0.2\"\n",
    "dl_set = \"train\"\n",
    "load_and_display(ds_namespace=mspodcast,\n",
    "                 model_name=model_name,\n",
    "                 dl_set=dl_set,\n",
    "                 label_of_interest=None,\n",
    "                 legacy_labels=False,\n",
    "                 marker_sz=2\n",
    ")\n",
    "pass"
   ]
  },
  {
   "cell_type": "code",
   "execution_count": 6,
   "metadata": {},
   "outputs": [
    {
     "name": "stdout",
     "output_type": "stream",
     "text": [
      "Got 119383 records before cleaning\n",
      "Got 119383 records after cleaning\n"
     ]
    },
    {
     "data": {
      "application/vnd.jupyter.widget-view+json": {
       "model_id": "b7c3f815a9644cc7b0c1dd7902e2ef38",
       "version_major": 2,
       "version_minor": 0
      },
      "text/plain": [
       "HBox(children=(FigureWidget({\n",
       "    'data': [{'hovertext': array([4. , 3. , 5. , ..., 3. , 3.8, 5.4]),\n",
       "         …"
      ]
     },
     "metadata": {},
     "output_type": "display_data"
    }
   ],
   "source": [
    "\n",
    "model_name = \"unsupervised_ssast.pretrain_avd.guided.loss_specaugment.t40.f40\"\n",
    "dl_set = \"train\"\n",
    "load_and_display(ds_namespace=mspodcast,\n",
    "                 model_name=model_name,\n",
    "                 dl_set=dl_set,\n",
    "                 label_of_interest=\"act\",\n",
    "                 legacy_labels=False\n",
    ")\n",
    "pass"
   ]
  },
  {
   "cell_type": "code",
   "execution_count": 12,
   "metadata": {},
   "outputs": [
    {
     "name": "stdout",
     "output_type": "stream",
     "text": [
      "Got 119383 records before cleaning\n",
      "Got 119383 records after cleaning\n"
     ]
    },
    {
     "data": {
      "application/vnd.jupyter.widget-view+json": {
       "model_id": "615a7add335148ccacc748913a42cf9e",
       "version_major": 2,
       "version_minor": 0
      },
      "text/plain": [
       "HBox(children=(FigureWidget({\n",
       "    'data': [{'hovertext': array(['neutral', 'other', 'neutral', ..., 'angry', '…"
      ]
     },
     "metadata": {},
     "output_type": "display_data"
    }
   ],
   "source": [
    "model_name = \"unsupervised_ssast.pretrain_avd.guided.loss_specaugment.t40.f40_attn.loss.0.6\"\n",
    "dl_set = \"train\"\n",
    "load_and_display(ds_namespace=mspodcast,\n",
    "                 model_name=model_name,\n",
    "                 dl_set=dl_set,\n",
    "                 label_of_interest=None,\n",
    "                 legacy_labels=False\n",
    ")\n",
    "pass"
   ]
  }
 ],
 "metadata": {
  "kernelspec": {
   "display_name": "clip",
   "language": "python",
   "name": "python3"
  },
  "language_info": {
   "codemirror_mode": {
    "name": "ipython",
    "version": 3
   },
   "file_extension": ".py",
   "mimetype": "text/x-python",
   "name": "python",
   "nbconvert_exporter": "python",
   "pygments_lexer": "ipython3",
   "version": "3.9.16"
  }
 },
 "nbformat": 4,
 "nbformat_minor": 2
}
